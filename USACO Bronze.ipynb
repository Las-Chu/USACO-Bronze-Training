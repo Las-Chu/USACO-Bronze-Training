{
 "cells": [
  {
   "cell_type": "code",
   "execution_count": 20,
   "metadata": {},
   "outputs": [
    {
     "name": "stdout",
     "output_type": "stream",
     "text": [
      "GO\n"
     ]
    }
   ],
   "source": [
    "import os\n",
    "\n",
    "#reading input file: ride.in\n",
    "in_file = open('ride.in', 'r')\n",
    "#for a_line in in_file:\n",
    "    #print(a_line)\n",
    "str_list = in_file.readlines()\n",
    "\n",
    "    \n",
    "str_group1 = str_list[0]\n",
    "str_ufo1 = str_list[1]\n",
    "#str_ufo1 = 'COMETQ'\n",
    "#str_ufo2 = 'ABSTAR'\n",
    "\n",
    "\n",
    "def calculation(my_string):  \n",
    "    prod_g1 = 1\n",
    "    for i in my_string:\n",
    "        n = ord(i)-64\n",
    "        prod_g1 = prod_g1*n\n",
    "    return prod_g1\n",
    "\n",
    "\n",
    "g1 = calculation(str_group1)\n",
    "#g2 = calculation(str_group2)\n",
    "ufo1 = calculation(str_ufo1)\n",
    "#ufo2 = calculation(str_ufo2)\n",
    "\n",
    "#print(g1, ufo1, g2, ufo2)\n",
    "#print(g1%47, ufo1%47, g2%47, ufo2%47)\n",
    "\n",
    "\n",
    "if g1%47 == ufo1%47:\n",
    "    print('GO')\n",
    "else:\n",
    "    print('STAY')\n",
    "    \n",
    "#if g2%47 == ufo2%47:\n",
    "    #print('GO')\n",
    "#else:\n",
    "    #print('STAY')\n",
    "    \n"
   ]
  },
  {
   "cell_type": "markdown",
   "metadata": {},
   "source": [
    "\n"
   ]
  },
  {
   "cell_type": "code",
   "execution_count": null,
   "metadata": {},
   "outputs": [],
   "source": [
    "import os\n",
    "\n",
    "in_file = open('ride.in', 'r')"
   ]
  },
  {
   "cell_type": "code",
   "execution_count": null,
   "metadata": {
    "collapsed": true
   },
   "outputs": [],
   "source": []
  }
 ],
 "metadata": {
  "kernelspec": {
   "display_name": "Python 3",
   "language": "python",
   "name": "python3"
  },
  "language_info": {
   "codemirror_mode": {
    "name": "ipython",
    "version": 3
   },
   "file_extension": ".py",
   "mimetype": "text/x-python",
   "name": "python",
   "nbconvert_exporter": "python",
   "pygments_lexer": "ipython3",
   "version": "3.5.3"
  }
 },
 "nbformat": 4,
 "nbformat_minor": 2
}
